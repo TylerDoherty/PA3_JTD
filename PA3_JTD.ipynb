{
 "cells": [
  {
   "cell_type": "code",
   "execution_count": 56,
   "id": "90878bcc",
   "metadata": {},
   "outputs": [],
   "source": [
    "# make a list of numbers\n",
    "numbers=[10,20,30,40,50]"
   ]
  },
  {
   "cell_type": "code",
   "execution_count": 57,
   "id": "208cf959",
   "metadata": {},
   "outputs": [
    {
     "name": "stdout",
     "output_type": "stream",
     "text": [
      "[10, 20, 30, 40, 50, 60]\n"
     ]
    }
   ],
   "source": [
    "# add 60 in\n",
    "numbers.append(60)\n",
    "print(numbers)"
   ]
  },
  {
   "cell_type": "code",
   "execution_count": 58,
   "id": "f5767c55",
   "metadata": {},
   "outputs": [
    {
     "name": "stdout",
     "output_type": "stream",
     "text": [
      "['5', 10, 20, 30, 40, 50, 60]\n"
     ]
    }
   ],
   "source": [
    "# insert 5 at begining\n",
    "numbers.insert(0, '5')\n",
    "print(numbers)"
   ]
  },
  {
   "cell_type": "code",
   "execution_count": 59,
   "id": "f75b565d",
   "metadata": {},
   "outputs": [
    {
     "name": "stdout",
     "output_type": "stream",
     "text": [
      "The modified numbers list ['5', 20, 30, 40, 50, 60]\n"
     ]
    }
   ],
   "source": [
    "# remove 2nd element and print final list\n",
    "numbers.remove(10)\n",
    "print(f\"The modified numbers list {numbers}\")"
   ]
  },
  {
   "cell_type": "code",
   "execution_count": 60,
   "id": "9e5f6f4e",
   "metadata": {},
   "outputs": [
    {
     "name": "stdout",
     "output_type": "stream",
     "text": [
      "wednesday\n"
     ]
    }
   ],
   "source": [
    "# print 3rd day of the week\n",
    "tuple = (\"monday\", \"tuesday\", \"wednesday\",\"thursday\",\"friday\")\n",
    "print(tuple[2])"
   ]
  },
  {
   "cell_type": "markdown",
   "id": "e6a40423",
   "metadata": {},
   "source": [
    " attempt to modify list and see what the error mesage is\n",
    " \n",
    "tuple.append(funday, '0') # object has no attribute append"
   ]
  },
  {
   "cell_type": "code",
   "execution_count": 61,
   "id": "dc599337",
   "metadata": {},
   "outputs": [
    {
     "name": "stdout",
     "output_type": "stream",
     "text": [
      "letters_reversed ['z', 'y', 'x', 'w', 'v', 'u', 't', 's', 'r', 'q', 'p', 'o', 'n', 'm', 'l', 'k', 'j', 'i', 'h', 'g', 'f', 'e', 'd', 'c', 'b', 'a']\n"
     ]
    }
   ],
   "source": [
    "# A. Create a list named letters containing the letters of the alphabet: \"a\" to \"z\".\n",
    "letters=['a','b','c','d','e','f','g','h','i','j','k','l','m','n','o','p','q','r','s','t','u','v','w','x','y','z']\n",
    "print(f\"letters_reversed {letters[::-1]}\")"
   ]
  },
  {
   "cell_type": "code",
   "execution_count": 62,
   "id": "1c7da824",
   "metadata": {},
   "outputs": [
    {
     "name": "stdout",
     "output_type": "stream",
     "text": [
      "Reversed List:, ['p', 'o', 'n', 'm', 'l', 'k']\n"
     ]
    }
   ],
   "source": [
    "# B. Use list slicing to extract the sublist [p, o, n, m, l, k] from the letters list.\n",
    "print(f\"Reversed List:, {letters_new[::-1]}\")"
   ]
  },
  {
   "cell_type": "code",
   "execution_count": 63,
   "id": "1f63ee91",
   "metadata": {},
   "outputs": [
    {
     "name": "stdout",
     "output_type": "stream",
     "text": [
      "Reversed again List:, ['k', 'l', 'm', 'n', 'o', 'p']\n"
     ]
    }
   ],
   "source": [
    "# C. Reverse the sublist extracted in step 2 and print it.\n",
    "print(f\"Reversed again List:, {letters_new[::1]}\")"
   ]
  },
  {
   "cell_type": "code",
   "execution_count": 64,
   "id": "0bb75730",
   "metadata": {},
   "outputs": [
    {
     "name": "stdout",
     "output_type": "stream",
     "text": [
      "('Tyler', 'Doherty', 19, 'Computer Science')\n"
     ]
    }
   ],
   "source": [
    "# A. Create a tuple called student with your firstname,lastname,age,and your favorite subject\n",
    "student=(\"Tyler\",\"Doherty\",19,\"Computer Science\")\n",
    "print(student)"
   ]
  },
  {
   "cell_type": "code",
   "execution_count": 65,
   "id": "d5c04789",
   "metadata": {},
   "outputs": [
    {
     "name": "stdout",
     "output_type": "stream",
     "text": [
      "your tuple is: \n",
      "Tyler\n",
      "Doherty\n",
      "19\n",
      "Computer Science\n"
     ]
    }
   ],
   "source": [
    "# B. Unpack the student tuple and print each value individually.\n",
    "print (\"your tuple is: \")\n",
    "for i in student:\n",
    "   print( i , sep = \" \" )"
   ]
  },
  {
   "cell_type": "code",
   "execution_count": 66,
   "id": "0d40fee8",
   "metadata": {},
   "outputs": [
    {
     "name": "stdout",
     "output_type": "stream",
     "text": [
      "['popcorn', 'chicken', 'steak', 'pork', 'pizza']\n"
     ]
    },
    {
     "data": {
      "text/plain": [
       "5"
      ]
     },
     "execution_count": 66,
     "metadata": {},
     "output_type": "execute_result"
    }
   ],
   "source": [
    "# Create a list named shopping_list with atleast 5 items you would buy from a grocery store and \n",
    "# B. Print the total number of items on your shopping list.\n",
    "shopping_list=[\"popcorn\",\"chicken\",\"steak\",\"pork\",\"pizza\"]\n",
    "print(shopping_list)\n",
    "len(shopping_list)"
   ]
  },
  {
   "cell_type": "code",
   "execution_count": 67,
   "id": "d93b323e",
   "metadata": {},
   "outputs": [
    {
     "name": "stdout",
     "output_type": "stream",
     "text": [
      "['popcorn', 'chicken', 'chips', 'pork', 'pizza']\n"
     ]
    }
   ],
   "source": [
    "# C. Replace the third item on the list with a different item.\n",
    "shopping_list[2] = \"chips\"\n",
    "print(shopping_list)"
   ]
  },
  {
   "cell_type": "code",
   "execution_count": 68,
   "id": "1a723611",
   "metadata": {},
   "outputs": [
    {
     "name": "stdout",
     "output_type": "stream",
     "text": [
      "['chicken', 'chips', 'pizza', 'popcorn', 'pork']\n"
     ]
    }
   ],
   "source": [
    "# D. Sort the list in alphabetical order.\n",
    "# E. Print the sorted shopping list.\n",
    "shopping_list.sort()\n",
    "print(shopping_list)"
   ]
  },
  {
   "cell_type": "code",
   "execution_count": null,
   "id": "5596e46d",
   "metadata": {},
   "outputs": [],
   "source": []
  }
 ],
 "metadata": {
  "kernelspec": {
   "display_name": "Python 3 (ipykernel)",
   "language": "python",
   "name": "python3"
  },
  "language_info": {
   "codemirror_mode": {
    "name": "ipython",
    "version": 3
   },
   "file_extension": ".py",
   "mimetype": "text/x-python",
   "name": "python",
   "nbconvert_exporter": "python",
   "pygments_lexer": "ipython3",
   "version": "3.11.4"
  }
 },
 "nbformat": 4,
 "nbformat_minor": 5
}
